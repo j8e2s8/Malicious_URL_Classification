{
  "cells": [
    {
      "cell_type": "markdown",
      "metadata": {},
      "source": [
        "---\n",
        "title: \"악성 URL 분류\"\n",
        "author: \"Datanauts\"\n",
        "format:\n",
        "  dashboard:\n",
        "    nav-buttons: \n",
        "      - icon: github\n",
        "        href: https://github.com/j8e2s8/Malicious_URL_Classification\n",
        "    scrolling: true\n",
        "logo: \"datanauts_logo.png\"\n",
        "---\n",
        "\n",
        "\n",
        "# 개요\n",
        "\n",
        "## 사이드바 페이지 {.sidebar}\n",
        "\n",
        "### 팀\n",
        "- 팀명 : Datanauts\n",
        "- 팀원 : 이용규, 정은서서\n",
        "\n",
        "\n",
        "### 데이터\n",
        "- [데이콘](https://github.com/j8e2s8/Malicious_URL_Classification/tree/main/data/raw)\n",
        "\n",
        "\n",
        "## tab {.tabset}\n",
        "\n",
        "### 분석 목적\n",
        "\n",
        "인터넷의 급속한 확산과 함께 악성 URL을 통해 발생하는 사이버 공격이 급증하고 있습니다. \n",
        "\n",
        "이러한 악성 URL은 개인정보 탈취, 금융 사기, 악성 코드 배포 등 다양한 방식으로 사용자들에게 피해를 주고 있습니다. \n",
        "\n",
        "저희는 URL의 텍스트 정보만으로 특징을 추출하고, 악성 여부를 분류하는 AI 알고리즘을 개발하는 것을 목표로 합니다. \n",
        "\n",
        "\n",
        "\n",
        "### 데이터 설명\n",
        "train set 크기 : (6995056, 3) <br>\n",
        "test set 크기 : (1747689, 2) <br>\n",
        "\n",
        "label 0 : 정상 URL <br>\n",
        "label 1 : 악성 URL <br>\n",
        "\n",
        "악성 URL일 확률을 예측함. <br>\n"
      ],
      "id": "e7ec0fdf"
    },
    {
      "cell_type": "code",
      "metadata": {
        "component": "table",
        "title": "train set"
      },
      "source": [
        "import pandas as pd\n",
        "train = pd.read_csv('../data/raw/train.csv')\n",
        "train.head(5)"
      ],
      "id": "7ccaf631",
      "execution_count": null,
      "outputs": []
    },
    {
      "cell_type": "code",
      "metadata": {
        "component": "table",
        "title": "test set"
      },
      "source": [
        "import pandas as pd\n",
        "test = pd.read_csv('../data/raw/test.csv')\n",
        "test.head(5)"
      ],
      "id": "c5b88a84",
      "execution_count": null,
      "outputs": []
    }
  ],
  "metadata": {
    "kernelspec": {
      "name": "python3",
      "language": "python",
      "display_name": "Python 3 (ipykernel)",
      "path": "C:\\Users\\USER\\Documents\\D\\install\\miniconda\\miniconda\\envs\\Malicious_URL_Classification\\share\\jupyter\\kernels\\python3"
    }
  },
  "nbformat": 4,
  "nbformat_minor": 5
}